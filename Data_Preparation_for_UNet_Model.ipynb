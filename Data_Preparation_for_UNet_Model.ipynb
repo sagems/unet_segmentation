{
  "nbformat": 4,
  "nbformat_minor": 0,
  "metadata": {
    "colab": {
      "provenance": []
    },
    "kernelspec": {
      "name": "python3",
      "display_name": "Python 3"
    },
    "language_info": {
      "name": "python"
    }
  },
  "cells": [
    {
      "cell_type": "markdown",
      "source": [
        "# Preparing Data for Unet Model\n",
        "\n",
        "**Author**: Sage McGinley-Smith  \n",
        "**Class**: CS 230: Deep Learning  \n",
        "**Date**: November 2024"
      ],
      "metadata": {
        "id": "EImw7a0X2A2n"
      }
    },
    {
      "cell_type": "markdown",
      "source": [
        "# Install and Load Necessary Packages and Mount Drive"
      ],
      "metadata": {
        "id": "MXur4KKinmjX"
      }
    },
    {
      "cell_type": "code",
      "source": [
        "!pip install rasterio google-cloud-storage\n",
        "import os\n",
        "import rasterio\n",
        "from google.cloud import storage\n",
        "from google.colab import drive\n",
        "drive.mount('/content/drive')\n",
        "os.environ[\"GOOGLE_APPLICATION_CREDENTIALS\"] = \"insert path to .json key file in drive here\""
      ],
      "metadata": {
        "id": "RIVPIX-TleDB"
      },
      "execution_count": null,
      "outputs": []
    },
    {
      "cell_type": "markdown",
      "source": [
        "# Define Functions for Tiling and Bucketing\n",
        "Image tiles are 128 x 128"
      ],
      "metadata": {
        "id": "vde0i6vHnrBD"
      }
    },
    {
      "cell_type": "code",
      "source": [
        "def upload_to_gcp(bucket_name, source_file_name, destination_blob_name):\n",
        "    storage_client = storage.Client()\n",
        "    bucket = storage_client.bucket(bucket_name)\n",
        "    blob = bucket.blob(destination_blob_name)\n",
        "    blob.upload_from_filename(source_file_name)\n",
        "    print(f\"File {source_file_name} uploaded to {destination_blob_name}.\")"
      ],
      "metadata": {
        "id": "pIQEv1oEle38"
      },
      "execution_count": null,
      "outputs": []
    },
    {
      "cell_type": "code",
      "source": [
        "def tile_and_upload(geotiff_path, bucket_name):\n",
        "    tile_size = 128  # Define the size of each tile\n",
        "    filename = os.path.basename(geotiff_path).split(\".\")[0]\n",
        "\n",
        "    # Determine the quarter based on the filename\n",
        "    if \"q1\" in filename:\n",
        "        quarter_folder = \"q1\"\n",
        "    elif \"q2\" in filename:\n",
        "        quarter_folder = \"q2\"\n",
        "    elif \"q3\" in filename:\n",
        "        quarter_folder = \"q3\"\n",
        "    elif \"q4\" in filename:\n",
        "        quarter_folder = \"q4\"\n",
        "    else:\n",
        "        raise ValueError(\"Filename does not contain a valid quarter identifier (q1, q2, q3, q4).\")\n",
        "\n",
        "    # Determine if the file is a mask or sentinel image\n",
        "    if \"mask\" in filename:\n",
        "        folder = \"mask-tiles\"\n",
        "    else:\n",
        "        folder = \"sentinel-tiles\"\n",
        "\n",
        "    # Open the GeoTIFF and create tiles\n",
        "    with rasterio.open(geotiff_path) as src:\n",
        "        img_width, img_height = src.width, src.height\n",
        "\n",
        "        # Iterate through the image to create tiles\n",
        "        for i in range(0, img_width, tile_size):\n",
        "            for j in range(0, img_height, tile_size):\n",
        "                window = rasterio.windows.Window(i, j, tile_size, tile_size)\n",
        "\n",
        "                # Read the windowed tile and save if it matches tile size\n",
        "                transform = src.window_transform(window)\n",
        "                tile_data = src.read(window=window)\n",
        "\n",
        "                # Skip if the tile is smaller than expected (edge case)\n",
        "                if tile_data.shape[1] != tile_size or tile_data.shape[2] != tile_size:\n",
        "                    continue\n",
        "\n",
        "                # Define tile filename and save path\n",
        "                tile_filename = f\"{filename}_tile_{i}_{j}.tif\"\n",
        "                tile_path = f\"./{tile_filename}\"\n",
        "\n",
        "                # Save the tile\n",
        "                with rasterio.open(\n",
        "                    tile_path,\n",
        "                    'w',\n",
        "                    driver='GTiff',\n",
        "                    height=tile_size,\n",
        "                    width=tile_size,\n",
        "                    count=src.count,\n",
        "                    dtype=tile_data.dtype,\n",
        "                    crs=src.crs,\n",
        "                    transform=transform\n",
        "                ) as dst:\n",
        "                    dst.write(tile_data)\n",
        "\n",
        "                # Upload to GCP in the appropriate folder structure\n",
        "                destination_blob_name = f\"{folder}/{quarter_folder}/{tile_filename}\"\n",
        "                upload_to_gcp(bucket_name, tile_path, destination_blob_name)\n",
        "\n",
        "                # Remove local tile after uploading\n",
        "                os.remove(tile_path)"
      ],
      "metadata": {
        "id": "yVsBbSMWllyE"
      },
      "execution_count": null,
      "outputs": []
    },
    {
      "cell_type": "markdown",
      "source": [
        "# Loop Through Images and Tile + Upload Them"
      ],
      "metadata": {
        "id": "ASf9IYiFnvqr"
      }
    },
    {
      "cell_type": "code",
      "source": [
        "bucket_name = \"230-project-tiles\"\n",
        "geotiff_paths = [\n",
        "    \"/content/drive/My Drive/Senior Project/Training_Data_Full_Quads/image_q1_2019.tif\",\n",
        "    \"/content/drive/My Drive/Senior Project/Training_Data_Full_Quads/image_q2_2019.tif\",\n",
        "    \"/content/drive/My Drive/Senior Project/Training_Data_Full_Quads/image_q3_2019.tif\",\n",
        "    \"/content/drive/My Drive/Senior Project/Training_Data_Full_Quads/image_q4_2019.tif\",\n",
        "    \"/content/drive/My Drive/Senior Project/Training_Data_Full_Quads/mask_q1_2019.tif\",\n",
        "    \"/content/drive/My Drive/Senior Project/Training_Data_Full_Quads/mask_q2_2019.tif\",\n",
        "    \"/content/drive/My Drive/Senior Project/Training_Data_Full_Quads/mask_q3_2019.tif\",\n",
        "    \"/content/drive/My Drive/Senior Project/Training_Data_Full_Quads/mask_q4_2019.tif\"\n",
        "]\n",
        "\n",
        "for geotiff_path in geotiff_paths:\n",
        "    tile_and_upload(geotiff_path, bucket_name)"
      ],
      "metadata": {
        "collapsed": true,
        "id": "jTay4QkBl4qn"
      },
      "execution_count": null,
      "outputs": []
    }
  ]
}