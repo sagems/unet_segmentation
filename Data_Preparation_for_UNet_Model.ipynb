{
  "nbformat": 4,
  "nbformat_minor": 0,
  "metadata": {
    "colab": {
      "provenance": []
    },
    "kernelspec": {
      "name": "python3",
      "display_name": "Python 3"
    },
    "language_info": {
      "name": "python"
    }
  },
  "cells": [
    {
      "cell_type": "markdown",
      "source": [
        "# Preparing Data for U-Net Model\n",
        "\n",
        "**Author**: Sage McGinley-Smith  \n",
        "**Class**: CS 230: Deep Learning  \n",
        "**Date**: November 2024\n",
        "\n",
        "This notebook provides a workflow for tiling GeoTIFF images and uploading the resulting tiles to a Google Cloud Storage (GCS) bucket. It assumes that there are four quarters, and that the geotiffs and masks for each quarter are titled as:\n",
        "- image_q1_2019.tif\n",
        "- image_q2_2019.tif\n",
        "- image_q3_2019.tif\n",
        "- image_q4_2019.tif\n",
        "- mask_q1_2019.tif\n",
        "- mask_q2_2019.tif\n",
        "- mask_q3_2019.tif\n",
        "- mask_q4_2019.tif\n",
        "\n",
        "### Key Features:\n",
        "1. **Install and Load Dependencies**:\n",
        "   - Sets up the required Python libraries, including `rasterio` for geospatial processing and `google-cloud-storage` for interacting with GCS.\n",
        "   - Mounts Google Drive to access necessary files, such as GeoTIFFs and GCP authentication credentials.\n",
        "\n",
        "2. **Tiling Functionality**:\n",
        "   - Splits large GeoTIFF images into smaller, square tiles of a defined size (e.g., 128x128 pixels).\n",
        "   - Supports differentiation between image tiles (e.g., satellite images) and mask tiles (e.g., segmentation masks) based on the filename.\n",
        "\n",
        "3. **Quarter-Based Organization**:\n",
        "   - Automatically organizes tiles into folders corresponding to quarters (`q1`, `q2`, `q3`, `q4`) based on filenames.\n",
        "\n",
        "4. **Google Cloud Storage Integration**:\n",
        "   - Uploads the generated tiles to a specified GCS bucket.\n",
        "   - Organizes tiles into the appropriate directories (`sentinel-tiles` or `mask-tiles`) within the bucket.\n",
        "\n",
        "5. **Edge Case Handling**:\n",
        "   - Excludes tiles that do not match the expected size (e.g., tiles from the edges of the image).\n",
        "\n",
        "### How to Use:\n",
        "1. **Setup**:\n",
        "   - Install the necessary Python packages by running the installation cell.\n",
        "   - Replace the placeholder in the `GOOGLE_APPLICATION_CREDENTIALS` variable with the path to your GCP credentials JSON file.\n",
        "\n",
        "2. **Define Tiling and Upload Functions**:\n",
        "   - The notebook includes reusable functions for tiling (`tile_and_upload`) and uploading files (`upload_to_gcp`).\n",
        "\n",
        "3. **Configure Parameters**:\n",
        "   - Specify the list of GeoTIFF file paths in `geotiff_paths`.\n",
        "   - Set the target GCS bucket name in the `bucket_name` variable.\n",
        "\n",
        "4. **Run the Tiling and Upload Workflow**:\n",
        "   - The loop iterates over all specified GeoTIFF files, tiles them, and uploads the resulting tiles to the GCS bucket.\n",
        "\n",
        "### Output:\n",
        "- GeoTIFF tiles are uploaded to the specified GCS bucket in a structured format:\n",
        "\n",
        "Bucket: 230-project-tiles\n",
        "  - sentinel-tiles\n",
        "      - q1\n",
        "      - q2\n",
        "      - q3\n",
        "      - q4\n",
        "  - folder: mask-tiles\n",
        "      - q1\n",
        "      - q2\n",
        "      - q3\n",
        "      - q4\n",
        "\n",
        "  From this point, the tiles are prepared to be divided into train/dev/test folders in the Making Dev And Test Sets notebook."
      ],
      "metadata": {
        "id": "EImw7a0X2A2n"
      }
    },
    {
      "cell_type": "markdown",
      "source": [
        "# Install and Load Necessary Packages and Mount Drive"
      ],
      "metadata": {
        "id": "MXur4KKinmjX"
      }
    },
    {
      "cell_type": "code",
      "source": [
        "!pip install rasterio google-cloud-storage\n",
        "import os\n",
        "import rasterio\n",
        "from google.cloud import storage\n",
        "from google.colab import drive\n",
        "drive.mount('/content/drive')\n",
        "os.environ[\"GOOGLE_APPLICATION_CREDENTIALS\"] = \"insert path to .json key file in drive here\""
      ],
      "metadata": {
        "id": "RIVPIX-TleDB"
      },
      "execution_count": null,
      "outputs": []
    },
    {
      "cell_type": "markdown",
      "source": [
        "# Define Functions for Tiling and Bucketing\n",
        "Image tiles are 128 x 128"
      ],
      "metadata": {
        "id": "vde0i6vHnrBD"
      }
    },
    {
      "cell_type": "code",
      "source": [
        "def upload_to_gcp(bucket_name, source_file_name, destination_blob_name):\n",
        "    storage_client = storage.Client()\n",
        "    bucket = storage_client.bucket(bucket_name)\n",
        "    blob = bucket.blob(destination_blob_name)\n",
        "    blob.upload_from_filename(source_file_name)\n",
        "    print(f\"File {source_file_name} uploaded to {destination_blob_name}.\")"
      ],
      "metadata": {
        "id": "pIQEv1oEle38"
      },
      "execution_count": null,
      "outputs": []
    },
    {
      "cell_type": "code",
      "source": [
        "def tile_and_upload(geotiff_path, bucket_name):\n",
        "    tile_size = 128  # Define the size of each tile\n",
        "    filename = os.path.basename(geotiff_path).split(\".\")[0]\n",
        "\n",
        "    # Determine the quarter based on the filename\n",
        "    if \"q1\" in filename:\n",
        "        quarter_folder = \"q1\"\n",
        "    elif \"q2\" in filename:\n",
        "        quarter_folder = \"q2\"\n",
        "    elif \"q3\" in filename:\n",
        "        quarter_folder = \"q3\"\n",
        "    elif \"q4\" in filename:\n",
        "        quarter_folder = \"q4\"\n",
        "    else:\n",
        "        raise ValueError(\"Filename does not contain a valid quarter identifier (q1, q2, q3, q4).\")\n",
        "\n",
        "    # Determine if the file is a mask or sentinel image\n",
        "    if \"mask\" in filename:\n",
        "        folder = \"mask-tiles\"\n",
        "    else:\n",
        "        folder = \"sentinel-tiles\"\n",
        "\n",
        "    # Open the GeoTIFF and create tiles\n",
        "    with rasterio.open(geotiff_path) as src:\n",
        "        img_width, img_height = src.width, src.height\n",
        "\n",
        "        # Iterate through the image to create tiles\n",
        "        for i in range(0, img_width, tile_size):\n",
        "            for j in range(0, img_height, tile_size):\n",
        "                window = rasterio.windows.Window(i, j, tile_size, tile_size)\n",
        "\n",
        "                # Read the windowed tile and save if it matches tile size\n",
        "                transform = src.window_transform(window)\n",
        "                tile_data = src.read(window=window)\n",
        "\n",
        "                # Skip if the tile is smaller than expected (edge case)\n",
        "                if tile_data.shape[1] != tile_size or tile_data.shape[2] != tile_size:\n",
        "                    continue\n",
        "\n",
        "                # Define tile filename and save path\n",
        "                tile_filename = f\"{filename}_tile_{i}_{j}.tif\"\n",
        "                tile_path = f\"./{tile_filename}\"\n",
        "\n",
        "                # Save the tile\n",
        "                with rasterio.open(\n",
        "                    tile_path,\n",
        "                    'w',\n",
        "                    driver='GTiff',\n",
        "                    height=tile_size,\n",
        "                    width=tile_size,\n",
        "                    count=src.count,\n",
        "                    dtype=tile_data.dtype,\n",
        "                    crs=src.crs,\n",
        "                    transform=transform\n",
        "                ) as dst:\n",
        "                    dst.write(tile_data)\n",
        "\n",
        "                # Upload to GCP in the appropriate folder structure\n",
        "                destination_blob_name = f\"{folder}/{quarter_folder}/{tile_filename}\"\n",
        "                upload_to_gcp(bucket_name, tile_path, destination_blob_name)\n",
        "\n",
        "                # Remove local tile after uploading\n",
        "                os.remove(tile_path)"
      ],
      "metadata": {
        "id": "yVsBbSMWllyE"
      },
      "execution_count": null,
      "outputs": []
    },
    {
      "cell_type": "markdown",
      "source": [
        "# Loop Through Images and Tile + Upload Them"
      ],
      "metadata": {
        "id": "ASf9IYiFnvqr"
      }
    },
    {
      "cell_type": "code",
      "source": [
        "bucket_name = \"230-project-tiles\"\n",
        "geotiff_paths = [\n",
        "    \"/content/drive/My Drive/Senior Project/Training_Data_Full_Quads/image_q1_2019.tif\",\n",
        "    \"/content/drive/My Drive/Senior Project/Training_Data_Full_Quads/image_q2_2019.tif\",\n",
        "    \"/content/drive/My Drive/Senior Project/Training_Data_Full_Quads/image_q3_2019.tif\",\n",
        "    \"/content/drive/My Drive/Senior Project/Training_Data_Full_Quads/image_q4_2019.tif\",\n",
        "    \"/content/drive/My Drive/Senior Project/Training_Data_Full_Quads/mask_q1_2019.tif\",\n",
        "    \"/content/drive/My Drive/Senior Project/Training_Data_Full_Quads/mask_q2_2019.tif\",\n",
        "    \"/content/drive/My Drive/Senior Project/Training_Data_Full_Quads/mask_q3_2019.tif\",\n",
        "    \"/content/drive/My Drive/Senior Project/Training_Data_Full_Quads/mask_q4_2019.tif\"\n",
        "]\n",
        "\n",
        "for geotiff_path in geotiff_paths:\n",
        "    tile_and_upload(geotiff_path, bucket_name)"
      ],
      "metadata": {
        "collapsed": true,
        "id": "jTay4QkBl4qn"
      },
      "execution_count": null,
      "outputs": []
    }
  ]
}